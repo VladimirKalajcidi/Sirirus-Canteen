{
  "cells": [
    {
      "cell_type": "code",
      "execution_count": null,
      "id": "0cf30d77-27f5-4efd-b78a-df1b0f815004",
      "metadata": {
        "id": "0cf30d77-27f5-4efd-b78a-df1b0f815004"
      },
      "outputs": [],
      "source": [
        "# import all the libraries\n",
        "import supervision as sv\n",
        "# supervision==0.19.0\n",
        "import cv2\n",
        "import numpy as np"
      ]
    },
    {
      "cell_type": "code",
      "execution_count": null,
      "id": "d9b25087-b772-4daa-96aa-b0070347cedc",
      "metadata": {
        "id": "d9b25087-b772-4daa-96aa-b0070347cedc"
      },
      "outputs": [],
      "source": [
        "# dowmload model\n",
        "from ultralytics import YOLO\n",
        "model = YOLO('yolov8s.pt')"
      ]
    },
    {
      "cell_type": "code",
      "execution_count": null,
      "id": "446baa4e-59aa-4852-84ed-11117d65eded",
      "metadata": {
        "scrolled": true,
        "id": "446baa4e-59aa-4852-84ed-11117d65eded"
      },
      "outputs": [],
      "source": [
        "# connect model to device (mps, cuda or cpu)\n",
        "device = 'mps'\n",
        "model.to(device)"
      ]
    },
    {
      "cell_type": "code",
      "execution_count": null,
      "id": "129f66b9-f2d7-4074-9e09-c21190301c72",
      "metadata": {
        "id": "129f66b9-f2d7-4074-9e09-c21190301c72"
      },
      "outputs": [],
      "source": [
        "# connecting to our firebase database\n",
        "\n",
        "import firebase_admin\n",
        "\n",
        "from firebase_admin import credentials\n",
        "from firebase_admin import db\n",
        "\n",
        "\n",
        "cred = credentials.Certificate(\"sirius-6b2b4-firebase-adminsdk-w0nf0-d148ad0356.json\")\n",
        "\n",
        "firebase_admin.initialize_app(cred, {'databaseURL': 'https://sirius-6b2b4-default-rtdb.europe-west1.firebasedatabase.app/'})\n",
        "\n",
        "ref_time = db.reference(\"/waitingtime\")\n",
        "ref_count = db.reference(\"/countofpeople\")"
      ]
    },
    {
      "cell_type": "code",
      "execution_count": null,
      "id": "5766e1ff-3843-40c8-9f5f-21faa89fe7c1",
      "metadata": {
        "id": "5766e1ff-3843-40c8-9f5f-21faa89fe7c1"
      },
      "outputs": [],
      "source": [
        "# 1st way of calculating the waiting time\n",
        "\n",
        "# get all variables that we need to work with supevision Detections object (creating polygons, tracker, box and zone annotators)\n",
        "video_info = sv.VideoInfo.from_video_path('videos/file5.mp4')\n",
        "byte_track = sv.ByteTrack(frame_rate=video_info.fps)\n",
        "frames_generator = sv.get_video_frames_generator('videos/file5.mp4', stride=5)\n",
        "time = 0\n",
        "polygon_entry = np.array([\n",
        "[495, 315],[639, 403],[755, 319],[555, 215],[495, 311]\n",
        "])\n",
        "polygon_queue = np.array([\n",
        "[8, 83],[8, 251],[192, 203],[808, 571],[1016, 567],[1028, 295],[244, 87],[100, 127],[101, 63],[7, 83]\n",
        "])\n",
        "polygon_table = np.array([\n",
        "[39, 209],[55, 253],[175, 229],[159, 169],[51, 181],[35, 205]\n",
        "])\n",
        "polygon_check = np.array([\n",
        "[206, 106],[218, 198],[182, 206],[170, 114],[206, 106]\n",
        "])\n",
        "\n",
        "box_annotator = sv.BoxAnnotator(thickness=1, text_thickness=1, text_scale=0.5)\n",
        "zone_entry = sv.PolygonZone(polygon=polygon_entry, frame_resolution_wh=video_info.resolution_wh)\n",
        "zone_queue = sv.PolygonZone(polygon=polygon_queue, frame_resolution_wh=video_info.resolution_wh)\n",
        "zone_table = sv.PolygonZone(polygon=polygon_table, frame_resolution_wh=video_info.resolution_wh)\n",
        "zone_check = sv.PolygonZone(polygon=polygon_check, frame_resolution_wh=video_info.resolution_wh)\n",
        "zone_annotator_queue = sv.PolygonZoneAnnotator(zone=zone_queue, color=sv.Color.white(), thickness=3, text_thickness=3, text_scale=2)\n",
        "zone_annotator_table = sv.PolygonZoneAnnotator(zone=zone_table, color=sv.Color.white(), thickness=3, text_thickness=3, text_scale=2)\n",
        "zone_annotator_check = sv.PolygonZoneAnnotator(zone=zone_check, color=sv.Color.white(), thickness=3, text_thickness=3, text_scale=2)\n",
        "\n",
        "\n",
        "# initialize arrays that we will use for saving tracked ids of people walking into the zone and counting the time at what they did it\n",
        "entry_ids = []\n",
        "last_entry_time = 0\n",
        "times = []\n",
        "start = time.time()\n",
        "\n",
        "# now iterate through frames and saving everything we need\n",
        "with sv.VideoSink(target_path='videos_results/file5_result.mp4', video_info=video_info) as sink:\n",
        "  for frame in frames_generator:\n",
        "      time += 5/10\n",
        "      results = model(frame, imgsz=1280)[0]\n",
        "      detections = sv.Detections.from_ultralytics(results)\n",
        "      detections = detections[detections.class_id==0]\n",
        "      detections = byte_track.update_with_detections(detections=detections)\n",
        "      zone_entry.trigger(detections=detections)\n",
        "      CONST = 7 if (zone_check.trigger(detections=detections)==True).sum() > 0 else 0\n",
        "      count = (zone_queue.trigger(detections=detections)==True).sum() - (zone_table.trigger(detections=detections)==True).sum() + CONST\n",
        "      if start >= 10:\n",
        "          ref_count.set(int(count)) # change our firebase database value for number of people in the queue\n",
        "      detections = detections[zone_entry.trigger(detections=detections)==True]\n",
        "      for id in detections.tracker_id:\n",
        "          if id not in entry_ids:\n",
        "              if len(entry_ids) == 0:\n",
        "                  last_entry_time = time\n",
        "                  times.append((time - last_entry_time) * count)\n",
        "                  last_entry_time = time\n",
        "                  entry_ids.append(id)\n",
        "              else:\n",
        "                  times.append((time - last_entry_time) * count)\n",
        "                  last_entry_time = time\n",
        "                  entry_ids.append(id)\n",
        "\n",
        "      if time % 10 == 0 and len(times) > 2:\n",
        "          ref_time.set(int(sum(times[-1:])/len(times[-1:]))) # changing database value for waiting time\n",
        "\n",
        "      box_annotator = sv.BoxAnnotator(thickness=1, text_thickness=1, text_scale=0.5)\n",
        "      labels = [\n",
        "          f'#{tracker_id}'\n",
        "          for tracker_id\n",
        "          in detections.tracker_id]\n",
        "      frame = box_annotator.annotate(scene=frame, detections=detections, labels=labels)\n",
        "      frame = zone_annotator_check.annotate(zone_annotator_queue.annotate(zone_annotator_table.annotate(scene=frame)))\n",
        "\n",
        "      sink.write_frame(frame=frame)\n",
        "\n",
        "print(times)\n",
        "print(f'average time for waiting: {sum(times)/len(times)}s')"
      ]
    },
    {
      "cell_type": "code",
      "execution_count": null,
      "id": "ef68f533-9d32-4e51-ba01-03df41fe7b2e",
      "metadata": {
        "id": "ef68f533-9d32-4e51-ba01-03df41fe7b2e"
      },
      "outputs": [],
      "source": [
        "# 2 way of calculating waitiing time\n",
        "\n",
        "# do everything the same except for other polygons\n",
        "video_info = sv.VideoInfo.from_video_path('/Users/vladimirkalajcidi/Downloads/itog.mp4')\n",
        "byte_track = sv.ByteTrack(frame_rate=video_info.fps)\n",
        "frames_generator = sv.get_video_frames_generator('/Users/vladimirkalajcidi/Downloads/itog.mp4')\n",
        "time = 0\n",
        "polygon_left = np.array([\n",
        "[11, 583],[19, 699],[171, 703],[159, 575],[15, 579]\n",
        "])\n",
        "polygon_right = np.array([\n",
        "[964, 541],[1068, 489],[972, 393],[1068, 345],[1152, 405],[1132, 705],[980, 709],[964, 537]\n",
        "])\n",
        "\n",
        "box_annotator = sv.BoxAnnotator(thickness=1, text_thickness=1, text_scale=0.5)\n",
        "zone_left = sv.PolygonZone(polygon=polygon_left, frame_resolution_wh=video_info.resolution_wh)\n",
        "zone_right = sv.PolygonZone(polygon=polygon_right, frame_resolution_wh=video_info.resolution_wh)\n",
        "zone_annotator_left = sv.PolygonZoneAnnotator(zone=zone_left, color=sv.Color.white(), thickness=3, text_thickness=3, text_scale=2)\n",
        "zone_annotator_right = sv.PolygonZoneAnnotator(zone=zone_right, color=sv.Color.white(), thickness=3, text_thickness=3, text_scale=2)\n",
        "\n",
        "\n",
        "# here we initialize twice more arrays (as we want to see the number of people enetring and exiting the queue)\n",
        "entry_ids = []\n",
        "exit_ids = []\n",
        "entry_times = []\n",
        "exit_times = []\n",
        "with sv.VideoSink(target_path='queues_results.mp4', video_info=video_info) as sink:\n",
        "  for frame in frames_generator:\n",
        "      time += 1/video_info.fps\n",
        "      results = model(frame, imgsz=1280)[0]\n",
        "      detections = sv.Detections.from_ultralytics(results)\n",
        "      detections = detections[detections.class_id==0]\n",
        "      zone_left.trigger(detections=detections)\n",
        "      zone_right.trigger(detections=detections)\n",
        "      detections = byte_track.update_with_detections(detections=detections)\n",
        "\n",
        "      for id in detections.tracker_id[zone_left.trigger(detections=detections)==True]:\n",
        "          if id not in exit_ids:\n",
        "              exit_times.append(time)\n",
        "              exit_ids.append(id)\n",
        "      for id in detections.tracker_id[zone_right.trigger(detections=detections)==True]:\n",
        "          if id not in entry_ids:\n",
        "              entry_times.append(time)\n",
        "              entry_ids.append(id)\n",
        "\n",
        "      if len(exit_times) >= 3:\n",
        "          waiting_time = int(np.mean(np.asarray(exit_times[-3:]) - np.asarray(entry_times[len(exit_times)-3:len(exit_times)])))\n",
        "          print(f'waiting time is {waiting_time}s')\n",
        "\n",
        "      box_annotator = sv.BoxAnnotator(thickness=1, text_thickness=1, text_scale=0.5)\n",
        "\n",
        "      labels_left = [\n",
        "          f'#{tracker_id}'\n",
        "          for tracker_id\n",
        "          in detections.tracker_id[zone_left.trigger(detections=detections)==True]]\n",
        "      labels_right = [\n",
        "          f'#{tracker_id}'\n",
        "          for tracker_id\n",
        "          in detections.tracker_id[zone_right.trigger(detections=detections)==True]]\n",
        "\n",
        "      frame = box_annotator.annotate(scene=frame, detections=detections[zone_left.trigger(detections=detections)==True], labels=labels_left)\n",
        "      frame = box_annotator.annotate(scene=frame, detections=detections[zone_right.trigger(detections=detections)==True], labels=labels_right)\n",
        "      frame = zone_annotator_left.annotate(zone_annotator_right.annotate(scene=frame))\n",
        "\n",
        "      sink.write_frame(frame=frame)"
      ]
    },
    {
      "cell_type": "code",
      "execution_count": null,
      "id": "5ee6839d-0e58-45af-a724-9cc6661571b1",
      "metadata": {
        "id": "5ee6839d-0e58-45af-a724-9cc6661571b1"
      },
      "outputs": [],
      "source": [
        "import time"
      ]
    },
    {
      "cell_type": "code",
      "execution_count": null,
      "id": "aea4d801-0137-43b3-abfa-1dc42112497e",
      "metadata": {
        "id": "aea4d801-0137-43b3-abfa-1dc42112497e"
      },
      "outputs": [],
      "source": [
        "# this is the same code which updates the information about how many people are at the tables so we can calcu\n",
        "\n",
        "video_info = sv.VideoInfo.from_video_path('videos/table.mp4')\n",
        "polygon = np.array([\n",
        "[554, 697],[62, 201],[62, 145],[474, 33],[1210, 237],[1210, 689],[558, 693]\n",
        "])\n",
        "zone = sv.PolygonZone(polygon=polygon, frame_resolution_wh=video_info.resolution_wh)\n",
        "\n",
        "box_annotator = sv.BoxAnnotator(thickness=1, text_thickness=1, text_scale=0.5)\n",
        "zone_annotator = sv.PolygonZoneAnnotator(zone=zone, color=sv.Color.white(), thickness=3, text_thickness=3, text_scale=2)\n",
        "\n",
        "with sv.VideoSink(target_path='/Users/vladimirkalajcidi/Downloads/table_result', video_info=video_info) as sink:\n",
        "\n",
        "    for frame in sv.get_video_frames_generator('videos/table.mp4', stride=300):\n",
        "        time.sleep(10)\n",
        "\n",
        "        results = model(frame, imgsz=1280)[0]\n",
        "        detections = sv.Detections.from_ultralytics(results)\n",
        "        detections = detections[detections.class_id == 0]\n",
        "        zone.trigger(detections=detections)\n",
        "        print(f'People at the tables {(zone.trigger(detections=detections)==True).sum()}')\n",
        "        ref.set(int((zone.trigger(detections=detections)==True).sum()))\n",
        "\n",
        "        box_annotator = sv.BoxAnnotator(thickness=1, text_thickness=1, text_scale=0.5)\n",
        "        labels = [f\"{model.names[class_id]} {confidence:0.2f}\" for confidence, class_id in \\\n",
        "                  zip(detections.confidence, detections.class_id)]\n",
        "        frame = box_annotator.annotate(scene=frame, detections=detections, labels=labels)\n",
        "        frame = zone_annotator.annotate(scene=frame)\n",
        "\n",
        "        sink.write_frame(frame=frame)"
      ]
    },
    {
      "cell_type": "code",
      "execution_count": null,
      "id": "ac89e65d-04f5-4f68-a762-0ee689525075",
      "metadata": {
        "id": "ac89e65d-04f5-4f68-a762-0ee689525075"
      },
      "outputs": [],
      "source": []
    }
  ],
  "metadata": {
    "kernelspec": {
      "display_name": "Python 3 (ipykernel)",
      "language": "python",
      "name": "python3"
    },
    "language_info": {
      "codemirror_mode": {
        "name": "ipython",
        "version": 3
      },
      "file_extension": ".py",
      "mimetype": "text/x-python",
      "name": "python",
      "nbconvert_exporter": "python",
      "pygments_lexer": "ipython3",
      "version": "3.11.8"
    },
    "colab": {
      "provenance": []
    }
  },
  "nbformat": 4,
  "nbformat_minor": 5
}